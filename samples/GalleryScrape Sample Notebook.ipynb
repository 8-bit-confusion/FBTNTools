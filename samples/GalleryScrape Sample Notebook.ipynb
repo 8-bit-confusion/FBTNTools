{
  "nbformat": 4,
  "nbformat_minor": 0,
  "metadata": {
    "colab": {
      "provenance": []
    },
    "kernelspec": {
      "name": "python3",
      "display_name": "Python 3"
    },
    "language_info": {
      "name": "python"
    }
  },
  "cells": [
    {
      "cell_type": "code",
      "execution_count": null,
      "metadata": {
        "colab": {
          "base_uri": "https://localhost:8080/"
        },
        "id": "17LG5dYwyMe2",
        "outputId": "5ec52775-619e-4096-f752-27dcddb898b4"
      },
      "outputs": [
        {
          "output_type": "stream",
          "name": "stdout",
          "text": [
            "  % Total    % Received % Xferd  Average Speed   Time    Time     Time  Current\n",
            "                                 Dload  Upload   Total   Spent    Left  Speed\n",
            "\r  0     0    0     0    0     0      0      0 --:--:-- --:--:-- --:--:--     0\r100  3257  100  3257    0     0  29271      0 --:--:-- --:--:-- --:--:-- 29342\n"
          ]
        }
      ],
      "source": [
        "!curl https://raw.githubusercontent.com/8-bit-confusion/FBTN-data/main/gallery_scrape.py \\\n",
        "-o gallery_scrape.py"
      ]
    },
    {
      "cell_type": "code",
      "source": [
        "import gallery_scrape\n",
        "gallery_scrape.install_packages()"
      ],
      "metadata": {
        "id": "DDcvojpHt5aS"
      },
      "execution_count": null,
      "outputs": []
    },
    {
      "cell_type": "code",
      "source": [
        "iunsct_gallery = gallery_scrape.Gallery.from_url(\"https://in.pinterest.com/iunsct/coquette-outfits/\")"
      ],
      "metadata": {
        "id": "ESwgy79V1UO-"
      },
      "execution_count": null,
      "outputs": []
    },
    {
      "cell_type": "code",
      "source": [
        "iunsct_gallery.to_csv(\"iunsct.csv\")"
      ],
      "metadata": {
        "id": "HKCev1Qn1_Ox"
      },
      "execution_count": null,
      "outputs": []
    }
  ]
}